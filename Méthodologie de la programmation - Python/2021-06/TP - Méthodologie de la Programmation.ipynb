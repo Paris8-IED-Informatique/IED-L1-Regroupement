{
 "cells": [
  {
   "cell_type": "markdown",
   "id": "flush-combat",
   "metadata": {},
   "source": [
    "Nom         : \n",
    "Prenom      :\n",
    "N. Etudiant :"
   ]
  },
  {
   "cell_type": "markdown",
   "id": "southeast-wonder",
   "metadata": {},
   "source": [
    "> Pour votre convenance, l'énoncé est disponible au format .ipynb et .pdf. __Il s'agit du même exercice.__\n",
    "> \n",
    "> Vous pouvez réaliser les exercices directement sur jupyter et rendre le fichier .ipynb modifié par vos soins, sans oublier le fichier de sortie. __Pensez bien à indiquer votre nom, prénom et n. d'étudiant.__\n",
    "> \n",
    "> Vous devrez envoyer votre travail (exercice et fichier de sortie) sur le mail `josue.melka02@univ-paris8.fr`. Tout travail rendu après le délai fixé ne sera pas pris en compte."
   ]
  },
  {
   "cell_type": "markdown",
   "id": "deluxe-sculpture",
   "metadata": {},
   "source": [
    "# Exercice\n",
    "\n",
    "Soit le fichier `nombres.txt` contenant plusieurs listes de nombres séparés par des virgules, une par ligne, comme ceci :\n",
    "\n",
    "```\n",
    "lst_a : 17, 28, 31, 43, 53, 78, 217, 261, 346, 401, 409, 513, 577\n",
    "lst_b : 333, 206, 693, 197, 485, 404, 704, 363, 151, 424, 199, 936\n",
    "lst_c : 111, 174, 19, 267, 293, 354, 367, 391, 408, 445, 452, 492\n",
    "...\n",
    "```\n",
    "\n",
    "L'objectif est de vérifier si ces listes sont ordonnées ou non, et d'enregistrer le résultat dans un fichier."
   ]
  },
  {
   "cell_type": "markdown",
   "id": "designed-smooth",
   "metadata": {},
   "source": [
    "## Lecture d'une ligne\n",
    "\n",
    "Ecrire une fonction `lire_nombres(ligne)` qui lit une ligne du fichier et retourne un tuple avec le label de la ligne et la liste de nombres correspondant (type `int`).\n",
    "\n",
    "Exemple: \n",
    "\n",
    "```\n",
    ">>> lire_ligne(\"lst_a : 17, 28, 78, 217, 346, 409, 577, 588, 781\\n\")\n",
    "('lst_a', [17, 28, 78, 217, 346, 409, 577, 588, 781])\n",
    "```"
   ]
  },
  {
   "cell_type": "code",
   "execution_count": null,
   "id": "closed-insight",
   "metadata": {},
   "outputs": [],
   "source": [
    "def lire_ligne(ligne):\n",
    "    # votre code ici"
   ]
  },
  {
   "cell_type": "code",
   "execution_count": null,
   "id": "expensive-european",
   "metadata": {},
   "outputs": [],
   "source": [
    "# tests ici"
   ]
  },
  {
   "cell_type": "markdown",
   "id": "dominant-tongue",
   "metadata": {},
   "source": [
    "## Test d'ordre\n",
    "\n",
    "Ecrire une fonction `ordonne(liste)` qui retourne un booléen indiquant si une liste de nombres est ordonnée ou non (que ce soit en ordre croissant ou décroissant).\n",
    "\n",
    "Exemples: \n",
    "\n",
    "```\n",
    ">>> ordonne([1, 2, 3, 4])\n",
    "True\n",
    ">>> ordonne([3, 2, 4, 1])\n",
    "False\n",
    ">>> ordonne([4, 3, 2, 1])\n",
    "True\n",
    "```\n",
    "\n",
    "_Note: Vous pouvez réaliser des fonctions auxiliaires `croissant(liste)` et `decroissant(liste)` pour simplifier._"
   ]
  },
  {
   "cell_type": "code",
   "execution_count": null,
   "id": "breeding-canon",
   "metadata": {},
   "outputs": [],
   "source": [
    "def ordonne(liste):\n",
    "    # votre code ici"
   ]
  },
  {
   "cell_type": "code",
   "execution_count": null,
   "id": "racial-stewart",
   "metadata": {},
   "outputs": [],
   "source": [
    "# tests ici"
   ]
  },
  {
   "cell_type": "markdown",
   "id": "broken-thing",
   "metadata": {},
   "source": [
    "## Lecture du fichier\n",
    "\n",
    "Lire le fichier ligne par ligne en convertissant les lignes en listes de nombres avec la fonction vue en **1**."
   ]
  },
  {
   "cell_type": "code",
   "execution_count": null,
   "id": "swedish-frank",
   "metadata": {},
   "outputs": [],
   "source": []
  },
  {
   "cell_type": "markdown",
   "id": "adolescent-creature",
   "metadata": {},
   "source": [
    "## Ecriture des resultats\n",
    "\n",
    "Produire les resultats dans le fichier `resultats.txt` sous cette forme.\n",
    "\n",
    "```\n",
    "lst_a : Non\n",
    "lst_b : Non\n",
    "lst_c : Non\n",
    "lst_d : Non\n",
    "...\n",
    "```\n",
    "\n",
    "_Note: Vous pouvez utiliser la fonction vue en **2**._"
   ]
  },
  {
   "cell_type": "code",
   "execution_count": null,
   "id": "offshore-midwest",
   "metadata": {},
   "outputs": [],
   "source": []
  }
 ],
 "metadata": {
  "kernelspec": {
   "display_name": "Python 3",
   "language": "python",
   "name": "python3"
  },
  "language_info": {
   "codemirror_mode": {
    "name": "ipython",
    "version": 3
   },
   "file_extension": ".py",
   "mimetype": "text/x-python",
   "name": "python",
   "nbconvert_exporter": "python",
   "pygments_lexer": "ipython3",
   "version": "3.9.5"
  }
 },
 "nbformat": 4,
 "nbformat_minor": 5
}
