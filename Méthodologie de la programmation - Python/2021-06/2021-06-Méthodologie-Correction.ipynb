{
 "cells": [
  {
   "cell_type": "markdown",
   "source": [
    "Nom         : \n",
    "Prenom      : \n",
    "N. Etudiant : "
   ],
   "metadata": {}
  },
  {
   "cell_type": "markdown",
   "source": [
    "> Pour votre convenance, l'énoncé est disponible au format .ipynb et .pdf. __Il s'agit du même exercice.__\n",
    "> \n",
    "> Vous pouvez réaliser les exercices directement sur jupyter et rendre le fichier .ipynb modifié par vos soins, sans oublier le fichier de sortie. __Pensez bien à indiquer votre nom, prénom et n. d'étudiant.__\n",
    "> \n",
    "> Vous devrez envoyer votre travail (exercice et fichier de sortie) sur le mail `josue.melka02@univ-paris8.fr`. Tout travail rendu après le délai fixé ne sera pas pris en compte."
   ],
   "metadata": {}
  },
  {
   "cell_type": "markdown",
   "source": [
    "# Exercice\n",
    "\n",
    "Soit le fichier `nombres.txt` contenant plusieurs listes de nombres séparés par des virgules, une par ligne, comme ceci :\n",
    "\n",
    "```\n",
    "lst_a : 17, 28, 31, 43, 53, 78, 217, 261, 346, 401, 409, 513, 577\n",
    "lst_b : 333, 206, 693, 197, 485, 404, 704, 363, 151, 424, 199, 936\n",
    "lst_c : 111, 174, 19, 267, 293, 354, 367, 391, 408, 445, 452, 492\n",
    "...\n",
    "```\n",
    "\n",
    "L'objectif est de vérifier si ces listes sont ordonnées ou non, et d'enregistrer le résultat dans un fichier."
   ],
   "metadata": {}
  },
  {
   "cell_type": "markdown",
   "source": [
    "## Lecture d'une ligne\n",
    "\n",
    "Ecrire une fonction `lire_nombres(ligne)` qui lit une ligne du fichier et retourne un tuple avec le label de la ligne et la liste de nombres correspondant (type `int`).\n",
    "\n",
    "Exemple: \n",
    "\n",
    "```\n",
    ">>> lire_ligne(\"lst_a : 17, 28, 78, 217, 346, 409, 577, 588, 781\\n\")\n",
    "('lst_a', [17, 28, 78, 217, 346, 409, 577, 588, 781])\n",
    "```"
   ],
   "metadata": {}
  },
  {
   "cell_type": "code",
   "execution_count": 12,
   "source": [
    "def lire_ligne(ligne):\n",
    "    \"Lecture d'une ligne et extraction du nom de la liste et de la liste de nombres\"\n",
    "    parts = ligne.strip().split(':') # On sépare la ligne en 2\n",
    "    if len(parts) != 2:\n",
    "        raise Exception(\"La ligne n'est pas bien formée\")\n",
    "    # On sépare la liste en ses éléments (séparés par des virgules),\n",
    "    # on parcourt la liste et on convertit en entiers\n",
    "    numbers = [int(n) for n in parts[1].split(',')]\n",
    "    # On retourne le tuple (label, liste de nombres)\n",
    "    return parts[0].strip(), numbers\n"
   ],
   "outputs": [],
   "metadata": {}
  },
  {
   "cell_type": "code",
   "execution_count": 14,
   "source": [
    "# tests ici\n",
    "lire_ligne(\"lst_a : 17, 28, 78, 217, 346, 409, 577, 588, 781\\n\")\n"
   ],
   "outputs": [
    {
     "output_type": "execute_result",
     "data": {
      "text/plain": [
       "('lst_a ', [17, 28, 78, 217, 346, 409, 577, 588, 781])"
      ]
     },
     "metadata": {},
     "execution_count": 14
    }
   ],
   "metadata": {}
  },
  {
   "cell_type": "markdown",
   "source": [
    "## Test d'ordre\n",
    "\n",
    "Ecrire une fonction `ordonne(liste)` qui retourne un booléen indiquant si une liste de nombres est ordonnée ou non (que ce soit en ordre croissant ou décroissant).\n",
    "\n",
    "Exemples: \n",
    "\n",
    "```\n",
    ">>> ordonne([1, 2, 3, 4])\n",
    "True\n",
    ">>> ordonne([3, 2, 4, 1])\n",
    "False\n",
    ">>> ordonne([4, 3, 2, 1])\n",
    "True\n",
    "```\n",
    "\n",
    "_Note: Vous pouvez réaliser des fonctions auxiliaires `croissant(liste)` et `decroissant(liste)` pour simplifier._"
   ],
   "metadata": {}
  },
  {
   "cell_type": "code",
   "execution_count": 5,
   "source": [
    "def croissant(liste):\n",
    "    \"Teste si une liste de nombre est ordonnée du plus petit au plus grand\"\n",
    "    return all(liste[i] <= liste[i + 1] for i in range(len(liste) - 1))\n",
    "\n",
    "def decroissant(liste):\n",
    "    \"Teste si une liste de nombre est ordonnée du plus grand au plus petit\"\n",
    "    return all(liste[i] >= liste[i + 1] for i in range(len(liste) - 1))\n",
    "\n",
    "def ordonne(liste):\n",
    "    \"Teste si une liste de nombre est ordonnée (plus petit au plus grand ou plus grand az plus petit\"\n",
    "    return croissant(liste) or decroissant(liste)"
   ],
   "outputs": [],
   "metadata": {}
  },
  {
   "cell_type": "code",
   "execution_count": 7,
   "source": [
    "# tests ici\n",
    "print(ordonne([1, 2, 3, 4]))\n",
    "print(ordonne([3, 2, 4, 1]))\n",
    "print(ordonne([4, 3, 2, 1]))"
   ],
   "outputs": [
    {
     "output_type": "stream",
     "name": "stdout",
     "text": [
      "True\n",
      "False\n",
      "True\n"
     ]
    }
   ],
   "metadata": {}
  },
  {
   "cell_type": "markdown",
   "source": [
    "## Lecture du fichier\n",
    "\n",
    "Lire le fichier ligne par ligne en convertissant les lignes en listes de nombres avec la fonction vue en **1**."
   ],
   "metadata": {}
  },
  {
   "cell_type": "code",
   "execution_count": 9,
   "source": [
    "# On ouvre le fichier texte en lecture\n",
    "with open('nombres.txt', 'rt') as input:\n",
    "    # On parcourt chaque ligne\n",
    "    for ligne in input:\n",
    "        # Pour l'instant, on affiche le résultat de la lecture de la ligne\n",
    "        print(lire_ligne(ligne))"
   ],
   "outputs": [
    {
     "output_type": "stream",
     "name": "stdout",
     "text": [
      "('lst_a ', [129, 246, 730, 444, 276, 53, 773, 132, 534, 380, 261, 471, 106, 691, 364, 285, 28, 124, 879, 934])\n",
      "('lst_b ', [935, 915, 876, 868, 812, 734, 725, 72, 70, 670, 648, 564, 545, 457, 394, 344, 263, 207, 205, 177])\n",
      "('lst_c ', [142, 315, 476, 40, 896, 269, 639, 964, 113, 333, 313, 536, 225, 523, 552, 354, 689, 88, 520, 522])\n",
      "('lst_d ', [23, 22, 718, 215, 963, 762, 725, 880, 20, 878, 606, 926, 482, 416, 64, 316, 106, 808, 383, 819])\n",
      "('lst_e ', [983, 922, 890, 834, 797, 794, 79, 777, 744, 722, 705, 699, 597, 54, 534, 488, 385, 240, 236, 149])\n",
      "('lst_f ', [105, 146, 177, 23, 391, 410, 450, 523, 555, 58, 602, 70, 77, 790, 837, 838, 89, 944, 960, 981])\n",
      "('lst_g ', [122, 168, 190, 192, 219, 248, 271, 288, 319, 350, 379, 392, 547, 575, 578, 71, 853, 877, 885, 943])\n",
      "('lst_h ', [908, 825, 815, 772, 666, 654, 653, 625, 584, 571, 548, 534, 425, 374, 359, 194, 188, 146, 134, 127])\n",
      "('lst_i ', [973, 971, 966, 951, 949, 868, 863, 850, 829, 744, 71, 704, 611, 584, 377, 376, 334, 299, 254, 171])\n",
      "('lst_j ', [993, 987, 972, 902, 898, 863, 781, 747, 669, 644, 592, 507, 470, 402, 186, 159, 144, 140, 115, 60])\n",
      "('lst_k ', [50, 65, 123, 127, 208, 273, 447, 513, 545, 633, 640, 698, 699, 731, 754, 799, 892, 896, 956, 970])\n",
      "('lst_l ', [980, 929, 925, 833, 776, 700, 658, 641, 630, 620, 556, 54, 486, 450, 44, 398, 374, 209, 186, 142])\n",
      "('lst_m ', [15, 41, 63, 196, 277, 363, 420, 427, 465, 508, 566, 578, 610, 693, 711, 842, 867, 889, 898, 907])\n",
      "('lst_n ', [29, 162, 219, 237, 269, 272, 417, 450, 512, 530, 557, 600, 700, 758, 760, 829, 835, 877, 889, 962])\n",
      "('lst_o ', [957, 957, 861, 841, 834, 77, 738, 659, 606, 59, 488, 460, 419, 377, 352, 253, 202, 19, 182, 121])\n",
      "('lst_p ', [603, 694, 467, 949, 121, 835, 461, 244, 32, 570, 360, 928, 522, 170, 845, 297, 455, 271, 727, 285])\n",
      "('lst_q ', [974, 956, 951, 886, 875, 864, 802, 77, 750, 743, 72, 710, 533, 451, 425, 410, 384, 166, 121, 120])\n",
      "('lst_r ', [10, 19, 93, 106, 130, 153, 219, 269, 279, 348, 407, 422, 469, 483, 487, 578, 647, 748, 861, 999])\n",
      "('lst_s ', [274, 390, 829, 958, 566, 146, 857, 944, 46, 585, 816, 429, 937, 697, 705, 86, 202, 186, 431, 726])\n",
      "('lst_t ', [110, 130, 192, 278, 292, 326, 329, 354, 380, 43, 451, 452, 468, 566, 570, 674, 769, 818, 835, 849])\n",
      "('lst_u ', [108, 111, 116, 211, 22, 346, 354, 367, 370, 533, 574, 603, 629, 631, 790, 790, 87, 871, 940, 983])\n",
      "('lst_v ', [37, 59, 138, 170, 245, 283, 284, 298, 413, 430, 477, 603, 699, 706, 713, 714, 734, 878, 961, 976])\n",
      "('lst_w ', [31, 31, 42, 46, 55, 91, 153, 227, 234, 308, 351, 354, 355, 399, 426, 468, 507, 523, 583, 814])\n",
      "('lst_x ', [990, 974, 951, 897, 884, 754, 743, 722, 712, 694, 677, 634, 619, 592, 531, 453, 405, 320, 288, 147])\n",
      "('lst_y ', [994, 88, 88, 75, 744, 742, 662, 648, 637, 604, 584, 446, 445, 404, 303, 220, 220, 174, 127, 111])\n",
      "('lst_z ', [959, 920, 895, 830, 712, 642, 613, 591, 573, 564, 525, 473, 386, 358, 139, 134, 129, 71, 61, 40])\n"
     ]
    }
   ],
   "metadata": {}
  },
  {
   "cell_type": "markdown",
   "source": [
    "## Ecriture des resultats\n",
    "\n",
    "Produire les resultats dans le fichier `resultats.txt` sous cette forme.\n",
    "\n",
    "```\n",
    "lst_a : Non\n",
    "lst_b : Non\n",
    "lst_c : Non\n",
    "lst_d : Non\n",
    "...\n",
    "```\n",
    "\n",
    "_Note: Vous pouvez utiliser la fonction vue en **2**._"
   ],
   "metadata": {}
  },
  {
   "cell_type": "code",
   "execution_count": 15,
   "source": [
    "# On ouvre le fichier texte en lecture\n",
    "with open('nombres.txt', 'rt') as input:\n",
    "    # On ouvre le fichier texte en écriture\n",
    "    with open('resultats.txt', 'wt') as output:\n",
    "        # On parcourt chaque ligne\n",
    "        for ligne in input:\n",
    "            # On extrait les données de la ligne\n",
    "            data = lire_ligne(ligne)\n",
    "            # Le nom est le premier élément\n",
    "            label = data[0]\n",
    "            # On vérifie si la liste de nombres est ordonnée ou non\n",
    "            # et on va écrire \"Oui\" ou \"Non\" suivant le résultat\n",
    "            est_ordonne = \"Oui\" if ordonne(data[1]) else \"Non\"\n",
    "            # On écrit dans le fichier\n",
    "            print(f\"{label} : {est_ordonne}\", file=output)\n"
   ],
   "outputs": [],
   "metadata": {}
  }
 ],
 "metadata": {
  "kernelspec": {
   "name": "python3",
   "display_name": "Python 3.8.6 64-bit ('exam': pyenv)"
  },
  "language_info": {
   "codemirror_mode": {
    "name": "ipython",
    "version": 3
   },
   "file_extension": ".py",
   "mimetype": "text/x-python",
   "name": "python",
   "nbconvert_exporter": "python",
   "pygments_lexer": "ipython3",
   "version": "3.8.6"
  },
  "interpreter": {
   "hash": "b8ffd52e960d990fd8d655d8b979d8f4cbbebc4a099cb60c6195d688f8c61676"
  }
 },
 "nbformat": 4,
 "nbformat_minor": 5
}