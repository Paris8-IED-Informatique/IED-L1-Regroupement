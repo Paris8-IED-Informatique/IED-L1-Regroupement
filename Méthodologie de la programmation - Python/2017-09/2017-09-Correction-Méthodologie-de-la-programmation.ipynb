{
 "cells": [
  {
   "cell_type": "markdown",
   "metadata": {},
   "source": [
    "# Méthodologie de la Programmation - TD -  15 Septembre 2017\n",
    "\n",
    "## Horaires de trains\n",
    "### Représentation du temps\n",
    "Différentes représentations du temps peuvent coexister au sein d'un programme. Nous allons travailler ici avec la représentation textuelle d'un datetime au format ISO, sous la forme simplifiée suivante : 'AAAA-MM-JJ HH:MM:SS'; par exemple `\"2017-09-15 10:00:00\"` pour le 15 septembre 2017 à  10h00.\n",
    "\n",
    "### Objectif\n",
    "Soit un fichier texte \"trains.txt\" contenant les horaires de départ et d'arrivée de trains, au format suivant:\n",
    "```\n",
    "TRAIN 1:\n",
    "datetime départ\n",
    "datetime arrivée\n",
    "TRAIN 2:\n",
    "datetime départ\n",
    "datetime arrivée\n",
    "…\n",
    "TRAIN n:\n",
    "datetime départ\n",
    "datetime arrivée\n",
    "```\n",
    "\n",
    "On veut calculer la durée de chaque voyage, et enregistrer les résultats dans un second fichier.\n",
    "\n",
    "Attention, les jours de départ et d'arrivée peuvent différer. En revanche, pour des raisons de simplicité, on considère que le mois sera toujours le même."
   ]
  },
  {
   "cell_type": "markdown",
   "metadata": {},
   "source": [
    "## Exercice 1: (5 points)\n",
    "Ecrire une fonction `iso_to_tuple` qui transforme un datetime au format ISO en tuple\n",
    "d'entiers. Cette fonction aura pour signature:\n",
    "```\n",
    "def iso_to_tuple(dt):\n",
    " ...\n",
    "```\n",
    "Par exemple :\n",
    "```\n",
    ">>> iso_to_tuple(\"2017-09-15 10:00:00\")\n",
    "(2017, 9, 15, 10, 0, 0)\n",
    "```"
   ]
  },
  {
   "cell_type": "code",
   "execution_count": 4,
   "metadata": {},
   "outputs": [
    {
     "data": {
      "text/plain": [
       "(2017, 9, 15, 10, 0, 0)"
      ]
     },
     "execution_count": 4,
     "metadata": {},
     "output_type": "execute_result"
    }
   ],
   "source": [
    "def iso_to_tuple(dt):\n",
    "    clean_dt = \"\"\n",
    "    for char in dt:\n",
    "        if char in ('-', ':'):\n",
    "            clean_dt += \" \"\n",
    "        else:\n",
    "            clean_dt += char\n",
    "\n",
    "    clean_dt = clean_dt.split(' ')\n",
    "\n",
    "    for i in range(len(clean_dt)):\n",
    "        clean_dt[i] = int(clean_dt[i])\n",
    "\n",
    "    return tuple(clean_dt)\n",
    "\n",
    "# test\n",
    "iso_to_tuple(\"2017-09-15 10:00:00\")"
   ]
  },
  {
   "cell_type": "code",
   "execution_count": 3,
   "metadata": {},
   "outputs": [
    {
     "data": {
      "text/plain": [
       "(2017, 9, 15, 10, 0, 0)"
      ]
     },
     "execution_count": 3,
     "metadata": {},
     "output_type": "execute_result"
    }
   ],
   "source": [
    "def iso_to_tuple(dt):\n",
    "    datetime = dt\n",
    "    datetime = datetime.split()\n",
    "    \n",
    "    date = datetime[0]\n",
    "    time = datetime[1]\n",
    "    \n",
    "    date = date.split('-')\n",
    "    time = time.split(':')\n",
    "    \n",
    "    datetime = date + time\n",
    "    result = []\n",
    "    for élt in datetime:\n",
    "        result.append(int(élt))\n",
    "        \n",
    "    return tuple(result)\n",
    "\n",
    "# test\n",
    "iso_to_tuple(\"2017-09-15 10:00:00\")"
   ]
  },
  {
   "cell_type": "markdown",
   "metadata": {},
   "source": [
    "## Exercice 2: (5 points)\n",
    "On veut connaître l'écart en secondes entre deux datetimes donnés au format texte. Pour simplifier, on considère que les deux datetimes appartiennent toujours au même mois et la même  année.\n",
    "\n",
    "Écrire une fonction qui retourne la différence en secondes entre ses deux arguments. Le résultat correspond à (dt1 - dt2), et peut donc être négatif. Cette fonction aura pour signature:\n",
    "```\n",
    "def calc_diff(dt1, dt2):\n",
    "...\n",
    "```\n",
    "Par exemple :\n",
    "```\n",
    ">>> calc_diff(\"2012-10-02 20:10:00\", \"2012-10-05 15:20:00\")\n",
    "-241800\n",
    "```"
   ]
  },
  {
   "cell_type": "code",
   "execution_count": 5,
   "metadata": {
    "scrolled": true
   },
   "outputs": [
    {
     "data": {
      "text/plain": [
       "-241800"
      ]
     },
     "execution_count": 5,
     "metadata": {},
     "output_type": "execute_result"
    }
   ],
   "source": [
    "def calc_diff(dt1, dt2):\n",
    "    dt1 = iso_to_tuple(dt1)\n",
    "    dt2 = iso_to_tuple(dt2)\n",
    "    \n",
    "    # convertire JJ hh mm ss en s\n",
    "    # secondes depuis le début du mois courant\n",
    "    durée_s1 = dt1[2]*86400 + dt1[3]*3600 + dt1[4]*60 + dt1[5]\n",
    "    durée_s2 = dt2[2]*86400 + dt2[3]*3600 + dt2[4]*60 + dt2[5]\n",
    "\n",
    "    différence = int(durée_s1) - int(durée_s2)\n",
    "    \n",
    "    return différence\n",
    "\n",
    "# test\n",
    "calc_diff(\"2012-10-02 20:10:00\", \"2012-10-05 15:20:00\")"
   ]
  },
  {
   "cell_type": "markdown",
   "metadata": {},
   "source": [
    "## Exercice 3: (10 points)\n",
    "Ecrire un script qui lit le fichier \"trains.txt\", calcule la durée de chaque voyage en heures/minutes, et enregistre le résultat dans le fichier \"durees.txt\". Le format de sortie attendu est le suivant (en cas de difficulté, restez au format le plus proche possible):\n",
    "```\n",
    "TRAIN 1: hh:mm\n",
    "TRAIN 2: hh:mm\n",
    "…\n",
    "TRAIN n: hh:mm\n",
    "```"
   ]
  },
  {
   "cell_type": "code",
   "execution_count": 7,
   "metadata": {
    "scrolled": true
   },
   "outputs": [],
   "source": [
    "with open(\"trains.txt\", \"r\") as trains:\n",
    "    for i, ligne in enumerate(trains):\n",
    "        if i % 3 == 0:\n",
    "            nom = ligne\n",
    "            # enlève le retour à la ligne\n",
    "            nom = nom[:-1]\n",
    "\n",
    "        if i % 3 == 1:\n",
    "            dt2 = ligne\n",
    "\n",
    "        if i % 3 == 2:\n",
    "            dt1 = ligne\n",
    "            \n",
    "            # maintenant qu'on a collecté 3 valeurs on fait le traitement :\n",
    "            durée = calc_diff(dt1, dt2)\n",
    "\n",
    "            # durée s -> hh:mm\n",
    "            durée = durée / 60\n",
    "            heure = int(durée / 60)\n",
    "            minute = int(durée - heure * 60)\n",
    "\n",
    "            with open(\"durees.txt\", \"a\") as durees:\n",
    "                durees.write(\"{} {}:{}\\n\".format(nom, heure, minute))"
   ]
  },
  {
   "cell_type": "code",
   "execution_count": 8,
   "metadata": {},
   "outputs": [],
   "source": [
    "# extraire le nb de ligne/3 > nb de trains\n",
    "# doit être externe à l'autre with open sinon ca marche pas\n",
    "with open(\"trains.txt\", \"r\") as trains:\n",
    "    nb_trains = ((len(trains.readlines()))//3)\n",
    "\n",
    "with open(\"trains.txt\", \"r\") as trains:\n",
    "    for i in range(nb_trains):\n",
    "        nom = trains.readline()\n",
    "        dt2 = trains.readline()\n",
    "        dt1 = trains.readline()\n",
    "\n",
    "        # enlève le retour à la ligne\n",
    "        nom = nom[:-1]\n",
    "        \n",
    "        durée = calc_diff(dt1, dt2)\n",
    "\n",
    "        # durée s -> hh:mm\n",
    "        durée = durée / 60\n",
    "        heure = int(durée / 60)\n",
    "        minute = int(durée - heure * 60)\n",
    "\n",
    "        with open(\"durees.txt\", \"a\") as durees:\n",
    "            durees.write(\"{} {}:{}\\n\".format(nom, heure, minute))"
   ]
  },
  {
   "cell_type": "code",
   "execution_count": 9,
   "metadata": {},
   "outputs": [],
   "source": [
    "with open(\"trains.txt\", \"r\") as trains:\n",
    "    while True:\n",
    "        nom = trains.readline()\n",
    "        dt2 = trains.readline()\n",
    "        dt1 = trains.readline()\n",
    "        \n",
    "        # vérifie qu'on a pas atteind la fin du fichier\n",
    "        if not nom:\n",
    "            break\n",
    "\n",
    "        # enlève le retour à la ligne\n",
    "        nom = nom[:-1]\n",
    "        \n",
    "        durée = calc_diff(dt1, dt2)\n",
    "\n",
    "        # durée s -> hh:mm\n",
    "        durée = durée / 60\n",
    "        heure = int(durée / 60)\n",
    "        minute = int(durée - heure * 60)\n",
    "\n",
    "        with open(\"durees.txt\", \"a\") as durees:\n",
    "            durees.write(\"{} {}:{}\\n\".format(nom, heure, minute))"
   ]
  }
 ],
 "metadata": {
  "kernelspec": {
   "display_name": "Python 3",
   "language": "python",
   "name": "python3"
  },
  "language_info": {
   "codemirror_mode": {
    "name": "ipython",
    "version": 3
   },
   "file_extension": ".py",
   "mimetype": "text/x-python",
   "name": "python",
   "nbconvert_exporter": "python",
   "pygments_lexer": "ipython3",
   "version": "3.8.5"
  }
 },
 "nbformat": 4,
 "nbformat_minor": 4
}
