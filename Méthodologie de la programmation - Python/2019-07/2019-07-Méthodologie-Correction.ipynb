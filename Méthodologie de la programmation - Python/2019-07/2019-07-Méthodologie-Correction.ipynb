{
 "cells": [
  {
   "cell_type": "markdown",
   "metadata": {},
   "source": [
    "Nom         : DusDus\n",
    "Prenom      : \n",
    "N. Etudiant : "
   ]
  },
  {
   "cell_type": "markdown",
   "metadata": {},
   "source": [
    "\n",
    "## Recommandations\n",
    "\n",
    "> _Pour votre convenance, l'énoncé est disponible aux formats .ipynb et .pdf.\n",
    "**Il s'agit du même exercice.**_\n",
    "\n",
    "> _Vous pouvez réaliser le devoir directement sur jupyter et rendre le fichier .ipynb modifié par vos soins. Alternativement, vous pouvez faire et rendre l'exercice directement en python (fichier .py). Dans tous les cas, pensez bien à indiquer votre nom, prénom et n. d'étudiant._\n",
    "\n",
    "> _Les questions doivent être faites dans l'ordre, pour chaque question les fonctions précédentes devraient vous aider._\n",
    "\n",
    "> _Vous devez envoyer votre travail (exercice + fichier de sortie) à **josue.melka02@univ-paris8.fr** dès la fin de l'épreuve. Tout travail rendu après le délai fixé ne pourra être pris en compte._"
   ]
  },
  {
   "cell_type": "markdown",
   "metadata": {
    "colab_type": "text",
    "id": "OfyE-OgSr2DX"
   },
   "source": [
    "# Chiffre de César\n",
    "\n",
    "Aussi connu sous le nom de *« chiffrement par décalage »*, le chiffre de César est une méthode de chiffrement très simple, utilisée par Jules César dans ses correspondances secrètes.\n",
    "\n",
    "Le texte chiffré s'obtient en remplaçant chaque lettre du texte original par une lettre à distance fixe dans l'ordre de l'alphabet. Pour les dernières lettres, on reprend au début.\n",
    "\n",
    "La longueur du décalage constitue la clé du chiffrement qu'il suffit de transmettre au destinataire pour qu'il puisse déchiffrer le message.  \n",
    "Par exemple avec un décalage de 3 vers la droite, `A` est remplacé par `D`, `B` devient `E`, et ainsi de suite jusqu'à `W` qui devient `Z`, puis `X` devient `A` etc.\n",
    "\n",
    "![Exemple avec un décalage de 3](500px-Caesar3.svg.png)\n"
   ]
  },
  {
   "cell_type": "markdown",
   "metadata": {
    "colab_type": "text",
    "id": "DN6Z15iuEexy"
   },
   "source": [
    "\n",
    "# Exercice\n",
    "\n",
    "Pour cet exercice, nous utiliserons une approche à base de *table de correspondance*.\n",
    "\n",
    "Pour tout décalage, on peut créer un dictionaire donnant la correspondance entre la lettre originale et la lettre codée, ce qui permet d'encoder du texte très simplement. Il suffit ensuite d'inverser la table de correspondance pour décoder de la même façon.\n",
    "\n",
    "Dans ce qui suit, nous utiliserons cet alphabet:"
   ]
  },
  {
   "cell_type": "code",
   "execution_count": 1,
   "metadata": {},
   "outputs": [],
   "source": [
    "ALPHABET = 'ABCDEFGHIJKLMNOPQRSTUVWXYZ'"
   ]
  },
  {
   "cell_type": "markdown",
   "metadata": {
    "colab_type": "text",
    "id": "GCeBx-lREY8x"
   },
   "source": [
    "\n",
    "## Décalage\n",
    "\n",
    "Définir une fonction `decalage(distance)` permettant d'obtenir le code pour une distance donnée.\n",
    "\n",
    "Par exemple, `decalage(6) == 'GHIJKLMNOPQRSTUVWXYZABCDEF'`.\n"
   ]
  },
  {
   "cell_type": "code",
   "execution_count": 2,
   "metadata": {
    "colab": {},
    "colab_type": "code",
    "id": "rSznKDwtFU0x"
   },
   "outputs": [
    {
     "name": "stdout",
     "output_type": "stream",
     "text": [
      "BCDEFGHIJKLMNOPQRSTUVWXYZA\n",
      "GHIJKLMNOPQRSTUVWXYZABCDEF\n",
      "UVWXYZABCDEFGHIJKLMNOPQRST\n",
      "ABCDEFGHIJKLMNOPQRSTUVWXYZ\n",
      "ZABCDEFGHIJKLMNOPQRSTUVWXY\n"
     ]
    }
   ],
   "source": [
    "## Votre code ici\n",
    "\n",
    "\n",
    "def decalage(distance):\n",
    "    ALPHABET = 'ABCDEFGHIJKLMNOPQRSTUVWXYZ'\n",
    "    return ALPHABET[distance:] + ALPHABET[:distance]\n",
    "\n",
    "\n",
    "## Vos tests ici\n",
    "print(decalage(1))\n",
    "print(decalage(6))\n",
    "print(decalage(-6))\n",
    "print(decalage(26))\n",
    "print(decalage(-1))"
   ]
  },
  {
   "cell_type": "markdown",
   "metadata": {
    "colab_type": "text",
    "id": "mq4mrke0_gHG"
   },
   "source": [
    "\n",
    "## Table de correspondance\n",
    "\n",
    "Définir une fonction `table_cesar(distance)` permettant de générer la table de correspondance pour une distance donnée.\n",
    "\n",
    "Par exemple, `table_cesar(6)` retournera:\n",
    "\n",
    "```\n",
    "{'A': 'G', 'B': 'H', 'C': 'I', 'D': 'J',\n",
    " 'E': 'K', 'F': 'L', 'G': 'M', 'H': 'N',\n",
    " 'I': 'O', 'J': 'P', 'K': 'Q', 'L': 'R',\n",
    " 'M': 'S', 'N': 'T', 'O': 'U', 'P': 'V',\n",
    " 'Q': 'W', 'R': 'X', 'S': 'Y', 'T': 'Z',\n",
    " 'U': 'A', 'V': 'B', 'W': 'C', 'X': 'D',\n",
    " 'Y': 'E', 'Z': 'F'}\n",
    " ```"
   ]
  },
  {
   "cell_type": "code",
   "execution_count": 3,
   "metadata": {
    "colab": {},
    "colab_type": "code",
    "id": "3JzP0g2PBDVX",
    "scrolled": true
   },
   "outputs": [
    {
     "name": "stdout",
     "output_type": "stream",
     "text": [
      "{'A': 'G', 'B': 'H', 'C': 'I', 'D': 'J', 'E': 'K', 'F': 'L', 'G': 'M', 'H': 'N', 'I': 'O', 'J': 'P', 'K': 'Q', 'L': 'R', 'M': 'S', 'N': 'T', 'O': 'U', 'P': 'V', 'Q': 'W', 'R': 'X', 'S': 'Y', 'T': 'Z', 'U': 'A', 'V': 'B', 'W': 'C', 'X': 'D', 'Y': 'E', 'Z': 'F'}\n",
      "{'A': 'A', 'B': 'B', 'C': 'C', 'D': 'D', 'E': 'E', 'F': 'F', 'G': 'G', 'H': 'H', 'I': 'I', 'J': 'J', 'K': 'K', 'L': 'L', 'M': 'M', 'N': 'N', 'O': 'O', 'P': 'P', 'Q': 'Q', 'R': 'R', 'S': 'S', 'T': 'T', 'U': 'U', 'V': 'V', 'W': 'W', 'X': 'X', 'Y': 'Y', 'Z': 'Z'}\n",
      "{'A': 'Z', 'B': 'A', 'C': 'B', 'D': 'C', 'E': 'D', 'F': 'E', 'G': 'F', 'H': 'G', 'I': 'H', 'J': 'I', 'K': 'J', 'L': 'K', 'M': 'L', 'N': 'M', 'O': 'N', 'P': 'O', 'Q': 'P', 'R': 'Q', 'S': 'R', 'T': 'S', 'U': 'T', 'V': 'U', 'W': 'V', 'X': 'W', 'Y': 'X', 'Z': 'Y'}\n",
      "{'A': 'A', 'B': 'B', 'C': 'C', 'D': 'D', 'E': 'E', 'F': 'F', 'G': 'G', 'H': 'H', 'I': 'I', 'J': 'J', 'K': 'K', 'L': 'L', 'M': 'M', 'N': 'N', 'O': 'O', 'P': 'P', 'Q': 'Q', 'R': 'R', 'S': 'S', 'T': 'T', 'U': 'U', 'V': 'V', 'W': 'W', 'X': 'X', 'Y': 'Y', 'Z': 'Z'}\n"
     ]
    }
   ],
   "source": [
    "## Votre code ici\n",
    "\n",
    "def table_cesar(distance):\n",
    "    ALPHABET = 'ABCDEFGHIJKLMNOPQRSTUVWXYZ'\n",
    "    table = {}\n",
    "    i = 0\n",
    "    for n in ALPHABET :\n",
    "        #forme un dictionnaire des couples (lettre avant décalage, lettre après décalage)\n",
    "        table[n] = (decalage(distance))[i]\n",
    "        i += 1\n",
    "    return table\n",
    "    \n",
    "    \n",
    "    \n",
    "\n",
    "\n",
    "## Vos tests ici\n",
    "print(table_cesar(6))\n",
    "print(table_cesar(0))\n",
    "print(table_cesar(-1))\n",
    "print(table_cesar(26))"
   ]
  },
  {
   "cell_type": "markdown",
   "metadata": {},
   "source": [
    "## Encodage\n",
    "\n",
    "Définir une fonction `encode(txt, table)` permettant d'encoder du texte à l'aide d'une table de correspondance.  \n",
    "__Attention__: les caractères inconnus dans la table doivent rester fidèles à l'original.\n",
    "\n",
    "Par exemple `encode('12 34', {'1': 'A', '2': 'B', '3': 'C', '4': 'D'}) == 'AB CD'`.\n"
   ]
  },
  {
   "cell_type": "code",
   "execution_count": 4,
   "metadata": {},
   "outputs": [
    {
     "name": "stdout",
     "output_type": "stream",
     "text": [
      "AB CD\n",
      "JKIGRGMK IKYGX 6\n"
     ]
    }
   ],
   "source": [
    "## Votre code ici\n",
    "\n",
    "def encode(txt, table):\n",
    "    res = str()\n",
    "    for n in txt :                                   #parcourt le txt\n",
    "        res += table.get(n, n)\n",
    "    return res\n",
    "\n",
    "## Vos tests ici\n",
    "print(encode('12 34' , {'1': 'A', '2': 'B', '3': 'C', '4': 'D'}))\n",
    "print(encode('DECALAGE CESAR 6' , {'A': 'G', 'B': 'H', 'C': 'I', 'D': 'J', 'E': 'K', 'F': 'L', 'G': 'M', 'H': 'N', 'I': 'O', 'J': 'P', 'K': 'Q', 'L': 'R', 'M': 'S', 'N': 'T', 'O': 'U', 'P': 'V', 'Q': 'W', 'R': 'X', 'S': 'Y', 'T': 'Z', 'U': 'A', 'V': 'B', 'W': 'C', 'X': 'D', 'Y': 'E', 'Z': 'F'}))"
   ]
  },
  {
   "cell_type": "markdown",
   "metadata": {
    "colab_type": "text",
    "id": "5EXRG2tyBEBZ"
   },
   "source": [
    "## Chiffrement\n",
    "\n",
    "Définir une fonction `chiffre_cesar(message, distance)` permettant de coder le message avec une clé donnée.\n",
    "\n",
    "Par exemple, pour un décalage de 6, `chiffre_cesar('MESSAGE SECRET', 6) == 'SKYYGMK YKIXKZ'`.\n"
   ]
  },
  {
   "cell_type": "code",
   "execution_count": 5,
   "metadata": {
    "colab": {},
    "colab_type": "code",
    "id": "pbuP0imJDYJQ"
   },
   "outputs": [
    {
     "name": "stdout",
     "output_type": "stream",
     "text": [
      "SKYYGMK YKIXKZ\n",
      "MESSAGE SECRET\n",
      "DYPLVJ NPDLC\n"
     ]
    }
   ],
   "source": [
    "## Votre code ici\n",
    "\n",
    "def chiffre_cesar(message, distance):\n",
    "    table = table_cesar(distance) #crée une table à partir de la distance voulue\n",
    "    return encode(message, table) #encode le message avec cette table\n",
    "\n",
    "## Vos tests ici\n",
    "print(chiffre_cesar('MESSAGE SECRET', 6))\n",
    "print(chiffre_cesar('MESSAGE SECRET', 0))\n",
    "print(chiffre_cesar('SNEAKY CESAR', 11))"
   ]
  },
  {
   "cell_type": "markdown",
   "metadata": {
    "colab_type": "text",
    "id": "AFuXx_-BF4bk"
   },
   "source": [
    "## Déchiffrement\n",
    "\n",
    "Définir une fonction `dechiffre_cesar(cryptogramme, distance)` permettant de retrouver le message original à partir d'un cryptogramme et de la clé.\n",
    "\n",
    "Par exemple, `dechiffre_cesar('SKYYGMK YKIXKZ', 6) == 'MESSAGE SECRET'`."
   ]
  },
  {
   "cell_type": "code",
   "execution_count": 6,
   "metadata": {
    "colab": {},
    "colab_type": "code",
    "id": "HRVF2ZStGjU_"
   },
   "outputs": [
    {
     "name": "stdout",
     "output_type": "stream",
     "text": [
      "MESSAGE SECRET\n",
      "MESSAGE SECRET\n",
      "SNEAKY CESAR\n"
     ]
    }
   ],
   "source": [
    "## Votre code ici\n",
    "\n",
    "def dechiffre_cesar(cryptogramme, distance):\n",
    "    table = table_cesar( - distance) #inversion de la distance pour obtenir la table inversée\n",
    "    return encode(cryptogramme, table) #encode le message avec cette table => decodage\n",
    "\n",
    "\n",
    "\n",
    "## Vos tests ici\n",
    "print(dechiffre_cesar('SKYYGMK YKIXKZ', 6))\n",
    "print(dechiffre_cesar('MESSAGE SECRET', 0))\n",
    "print(dechiffre_cesar('DYPLVJ NPDLC', 11))"
   ]
  },
  {
   "cell_type": "markdown",
   "metadata": {
    "colab_type": "text",
    "id": "ZXK8NZivG4Rg"
   },
   "source": [
    "## Décoder un fichier\n",
    "\n",
    "Le fichier `cryptogramme.txt` contient un message codé avec le chiffre de Cesar, mais la clé est inconnue.\n",
    "A vous de trouver la clé et d'enregistrer le resultat dans un fichier.\n",
    "\n",
    "### Découverte de la clé\n",
    "\n",
    "Pour cela, vous allez lire la première ligne du fichier, puis la déchiffrer avec l'ensemble des clés possibles (il y en a 26) en affichant les résultats, ce qui vous permettra de trouver la bonne clé."
   ]
  },
  {
   "cell_type": "code",
   "execution_count": 7,
   "metadata": {
    "colab": {},
    "colab_type": "code",
    "id": "sH1KhJ8TNAZ0"
   },
   "outputs": [
    {
     "name": "stdout",
     "output_type": "stream",
     "text": [
      "clé 0 : WL NTRLWP LJLYE NSLYEP\n",
      "\n",
      "clé 1 : VK MSQKVO KIKXD MRKXDO\n",
      "\n",
      "clé 2 : UJ LRPJUN JHJWC LQJWCN\n",
      "\n",
      "clé 3 : TI KQOITM IGIVB KPIVBM\n",
      "\n",
      "clé 4 : SH JPNHSL HFHUA JOHUAL\n",
      "\n",
      "clé 5 : RG IOMGRK GEGTZ INGTZK\n",
      "\n",
      "clé 6 : QF HNLFQJ FDFSY HMFSYJ\n",
      "\n",
      "clé 7 : PE GMKEPI ECERX GLERXI\n",
      "\n",
      "clé 8 : OD FLJDOH DBDQW FKDQWH\n",
      "\n",
      "clé 9 : NC EKICNG CACPV EJCPVG\n",
      "\n",
      "clé 10 : MB DJHBMF BZBOU DIBOUF\n",
      "\n",
      "clé 11 : LA CIGALE AYANT CHANTE\n",
      "\n",
      "clé 12 : KZ BHFZKD ZXZMS BGZMSD\n",
      "\n",
      "clé 13 : JY AGEYJC YWYLR AFYLRC\n",
      "\n",
      "clé 14 : IX ZFDXIB XVXKQ ZEXKQB\n",
      "\n",
      "clé 15 : HW YECWHA WUWJP YDWJPA\n",
      "\n",
      "clé 16 : GV XDBVGZ VTVIO XCVIOZ\n",
      "\n",
      "clé 17 : FU WCAUFY USUHN WBUHNY\n",
      "\n",
      "clé 18 : ET VBZTEX TRTGM VATGMX\n",
      "\n",
      "clé 19 : DS UAYSDW SQSFL UZSFLW\n",
      "\n",
      "clé 20 : CR TZXRCV RPREK TYREKV\n",
      "\n",
      "clé 21 : BQ SYWQBU QOQDJ SXQDJU\n",
      "\n",
      "clé 22 : AP RXVPAT PNPCI RWPCIT\n",
      "\n",
      "clé 23 : ZO QWUOZS OMOBH QVOBHS\n",
      "\n",
      "clé 24 : YN PVTNYR NLNAG PUNAGR\n",
      "\n",
      "clé 25 : XM OUSMXQ MKMZF OTMZFQ\n",
      "\n"
     ]
    }
   ],
   "source": [
    "## Votre code ici\n",
    "\n",
    "with open(\"cryptogramme.txt\", \"r\") as f :\n",
    "    pl = f.readline().rstrip()\n",
    "for distance in range(26) :\n",
    "    print(\"clé\", distance, \":\", dechiffre_cesar(pl, distance))\n"
   ]
  },
  {
   "cell_type": "markdown",
   "metadata": {},
   "source": [
    "### Sauvegarde du message\n",
    "\n",
    "A présent, vous pouvez déchiffrer le fichier `cryptogramme.txt` et enregistrer le résultat dans un fichier de votre choix."
   ]
  },
  {
   "cell_type": "code",
   "execution_count": 8,
   "metadata": {
    "colab": {},
    "colab_type": "code",
    "id": "XhQoCVyzNBBx"
   },
   "outputs": [],
   "source": [
    "## Votre code ici\n",
    "with open(\"cryptogramme.txt\", \"r\") as f :\n",
    "    with open(\"fichier_de_mon_choix.txt\", \"w\") as sortie :\n",
    "        print(dechiffre_cesar(f.read(), 11), file=sortie)"
   ]
  }
 ],
 "metadata": {
  "colab": {
   "name": "TD_19-07-03.ipynb",
   "provenance": [],
   "toc_visible": true,
   "version": "0.3.2"
  },
  "kernelspec": {
   "display_name": "Python 3",
   "language": "python",
   "name": "python3"
  },
  "language_info": {
   "codemirror_mode": {
    "name": "ipython",
    "version": 3
   },
   "file_extension": ".py",
   "mimetype": "text/x-python",
   "name": "python",
   "nbconvert_exporter": "python",
   "pygments_lexer": "ipython3",
   "version": "3.8.5"
  }
 },
 "nbformat": 4,
 "nbformat_minor": 1
}