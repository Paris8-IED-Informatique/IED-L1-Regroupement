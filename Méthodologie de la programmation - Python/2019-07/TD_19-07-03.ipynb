{
 "cells": [
  {
   "cell_type": "markdown",
   "metadata": {},
   "source": [
    "Nom         :\n",
    "Prenom      :\n",
    "N. Etudiant :"
   ]
  },
  {
   "cell_type": "markdown",
   "metadata": {},
   "source": [
    "\n",
    "## Recommandations\n",
    "\n",
    "> _Pour votre convenance, l'énoncé est disponible aux formats .ipynb et .pdf.\n",
    "**Il s'agit du même exercice.**_\n",
    "\n",
    "> _Vous pouvez réaliser le devoir directement sur jupyter et rendre le fichier .ipynb modifié par vos soins. Alternativement, vous pouvez faire et rendre l'exercice directement en python (fichier .py). Dans tous les cas, pensez bien à indiquer votre nom, prénom et n. d'étudiant._\n",
    "\n",
    "> _Les questions doivent être faites dans l'ordre, pour chaque question les fonctions précédentes devraient vous aider._\n",
    "\n",
    "> _Vous devez envoyer votre travail (exercice + fichier de sortie) à **josue.melka02@univ-paris8.fr** dès la fin de l'épreuve. Tout travail rendu après le délai fixé ne pourra être pris en compte._"
   ]
  },
  {
   "cell_type": "markdown",
   "metadata": {
    "colab_type": "text",
    "id": "OfyE-OgSr2DX"
   },
   "source": [
    "# Chiffre de César\n",
    "\n",
    "Aussi connu sous le nom de *« chiffrement par décalage »*, le chiffre de César est une méthode de chiffrement très simple, utilisée par Jules César dans ses correspondances secrètes.\n",
    "\n",
    "Le texte chiffré s'obtient en remplaçant chaque lettre du texte original par une lettre à distance fixe dans l'ordre de l'alphabet. Pour les dernières lettres, on reprend au début.\n",
    "\n",
    "La longueur du décalage constitue la clé du chiffrement qu'il suffit de transmettre au destinataire pour qu'il puisse déchiffrer le message.  \n",
    "Par exemple avec un décalage de 3 vers la droite, `A` est remplacé par `D`, `B` devient `E`, et ainsi de suite jusqu'à `W` qui devient `Z`, puis `X` devient `A` etc.\n",
    "\n",
    "![Exemple avec un décalage de 3](500px-Caesar3.svg.png)\n"
   ]
  },
  {
   "cell_type": "markdown",
   "metadata": {
    "colab_type": "text",
    "id": "DN6Z15iuEexy"
   },
   "source": [
    "\n",
    "# Exercice\n",
    "\n",
    "Pour cet exercice, nous utiliserons une approche à base de *table de correspondance*.\n",
    "\n",
    "Pour tout décalage, on peut créer un dictionaire donnant la correspondance entre la lettre originale et la lettre codée, ce qui permet d'encoder du texte très simplement. Il suffit ensuite d'inverser la table de correspondance pour décoder de la même façon.\n",
    "\n",
    "Dans ce qui suit, nous utiliserons cet alphabet:"
   ]
  },
  {
   "cell_type": "code",
   "execution_count": null,
   "metadata": {},
   "outputs": [],
   "source": [
    "ALPHABET = 'ABCDEFGHIJKLMNOPQRSTUVWXYZ'"
   ]
  },
  {
   "cell_type": "markdown",
   "metadata": {
    "colab_type": "text",
    "id": "GCeBx-lREY8x"
   },
   "source": [
    "\n",
    "## Décalage\n",
    "\n",
    "Définir une fonction `decalage(distance)` permettant d'obtenir le code pour une distance donnée.\n",
    "\n",
    "Par exemple, `decalage(6) == 'GHIJKLMNOPQRSTUVWXYZABCDEF'`.\n"
   ]
  },
  {
   "cell_type": "code",
   "execution_count": null,
   "metadata": {
    "colab": {},
    "colab_type": "code",
    "id": "rSznKDwtFU0x"
   },
   "outputs": [],
   "source": [
    "## Votre code ici\n",
    "\n",
    "def decalage(distance):\n",
    "    pass\n",
    "\n",
    "\n",
    "## Vos tests ici\n"
   ]
  },
  {
   "cell_type": "markdown",
   "metadata": {
    "colab_type": "text",
    "id": "mq4mrke0_gHG"
   },
   "source": [
    "\n",
    "## Table de correspondance\n",
    "\n",
    "Définir une fonction `table_cesar(distance)` permettant de générer la table de correspondance pour une distance donnée.\n",
    "\n",
    "Par exemple, `table_cesar(6)` retournera:\n",
    "\n",
    "```\n",
    "{'A': 'G', 'B': 'H', 'C': 'I', 'D': 'J',\n",
    " 'E': 'K', 'F': 'L', 'G': 'M', 'H': 'N',\n",
    " 'I': 'O', 'J': 'P', 'K': 'Q', 'L': 'R',\n",
    " 'M': 'S', 'N': 'T', 'O': 'U', 'P': 'V',\n",
    " 'Q': 'W', 'R': 'X', 'S': 'Y', 'T': 'Z',\n",
    " 'U': 'A', 'V': 'B', 'W': 'C', 'X': 'D',\n",
    " 'Y': 'E', 'Z': 'F'}\n",
    " ```"
   ]
  },
  {
   "cell_type": "code",
   "execution_count": null,
   "metadata": {
    "colab": {},
    "colab_type": "code",
    "id": "3JzP0g2PBDVX"
   },
   "outputs": [],
   "source": [
    "## Votre code ici\n",
    "\n",
    "def table_cesar(distance):\n",
    "    pass\n",
    "\n",
    "\n",
    "## Vos tests ici\n"
   ]
  },
  {
   "cell_type": "markdown",
   "metadata": {},
   "source": [
    "## Encodage\n",
    "\n",
    "Définir une fonction `encode(txt, table)` permettant d'encoder du texte à l'aide d'une table de correspondance.  \n",
    "__Attention__: les caractères inconnus dans la table doivent rester fidèles à l'original.\n",
    "\n",
    "Par exemple `encode('12 34', {'1': 'A', '2': 'B', '3': 'C', '4': 'D'}) == 'AB CD'`.\n"
   ]
  },
  {
   "cell_type": "code",
   "execution_count": null,
   "metadata": {},
   "outputs": [],
   "source": [
    "## Votre code ici\n",
    "\n",
    "def encode(txt, table):\n",
    "    pass\n",
    "\n",
    "\n",
    "## Vos tests ici\n"
   ]
  },
  {
   "cell_type": "markdown",
   "metadata": {
    "colab_type": "text",
    "id": "5EXRG2tyBEBZ"
   },
   "source": [
    "## Chiffrement\n",
    "\n",
    "Définir une fonction `chiffre_cesar(message, distance)` permettant de coder le message avec une clé donnée.\n",
    "\n",
    "Par exemple, pour un décalage de 6, `chiffre_cesar('MESSAGE SECRET', 6) == 'SKYYGMK YKIXKZ'`.\n"
   ]
  },
  {
   "cell_type": "code",
   "execution_count": null,
   "metadata": {
    "colab": {},
    "colab_type": "code",
    "id": "pbuP0imJDYJQ"
   },
   "outputs": [],
   "source": [
    "## Votre code ici\n",
    "\n",
    "def chiffre_cesar(message, distance):\n",
    "    pass\n",
    "\n",
    "\n",
    "## Vos tests ici\n"
   ]
  },
  {
   "cell_type": "markdown",
   "metadata": {
    "colab_type": "text",
    "id": "AFuXx_-BF4bk"
   },
   "source": [
    "## Déchiffrement\n",
    "\n",
    "Définir une fonction `dechiffre_cesar(cryptogramme, distance)` permettant de retrouver le message original à partir d'un cryptogramme et de la clé.\n",
    "\n",
    "Par exemple, `dechiffre_cesar('SKYYGMK YKIXKZ', 6) == 'MESSAGE SECRET'`."
   ]
  },
  {
   "cell_type": "code",
   "execution_count": null,
   "metadata": {
    "colab": {},
    "colab_type": "code",
    "id": "HRVF2ZStGjU_"
   },
   "outputs": [],
   "source": [
    "## Votre code ici\n",
    "\n",
    "def dechiffre_cesar(cryptogramme, distance):\n",
    "    pass\n",
    "\n",
    "\n",
    "## Vos tests ici\n"
   ]
  },
  {
   "cell_type": "markdown",
   "metadata": {
    "colab_type": "text",
    "id": "ZXK8NZivG4Rg"
   },
   "source": [
    "## Décoder un fichier\n",
    "\n",
    "Le fichier `cryptogramme.txt` contient un message codé avec le chiffre de Cesar, mais la clé est inconnue.\n",
    "A vous de trouver la clé et d'enregistrer le resultat dans un fichier.\n",
    "\n",
    "### Découverte de la clé\n",
    "\n",
    "Pour cela, vous allez lire la première ligne du fichier, puis la déchiffrer avec l'ensemble des clés possibles (il y en a 26) en affichant les résultats, ce qui vous permettra de trouver la bonne clé."
   ]
  },
  {
   "cell_type": "code",
   "execution_count": null,
   "metadata": {
    "colab": {},
    "colab_type": "code",
    "id": "sH1KhJ8TNAZ0"
   },
   "outputs": [],
   "source": [
    "## Votre code ici\n"
   ]
  },
  {
   "cell_type": "markdown",
   "metadata": {},
   "source": [
    "### Sauvegarde du message\n",
    "\n",
    "A présent, vous pouvez déchiffrer le fichier `cryptogramme.txt` et enregistrer le résultat dans un fichier de votre choix."
   ]
  },
  {
   "cell_type": "code",
   "execution_count": null,
   "metadata": {
    "colab": {},
    "colab_type": "code",
    "id": "XhQoCVyzNBBx"
   },
   "outputs": [],
   "source": [
    "## Votre code ici\n"
   ]
  }
 ],
 "metadata": {
  "colab": {
   "name": "TD_19-07-03.ipynb",
   "provenance": [],
   "toc_visible": true,
   "version": "0.3.2"
  },
  "kernelspec": {
   "display_name": "Python 3",
   "language": "python",
   "name": "python3"
  },
  "language_info": {
   "codemirror_mode": {
    "name": "ipython",
    "version": 3
   },
   "file_extension": ".py",
   "mimetype": "text/x-python",
   "name": "python",
   "nbconvert_exporter": "python",
   "pygments_lexer": "ipython3",
   "version": "3.8.5"
  }
 },
 "nbformat": 4,
 "nbformat_minor": 1
}
