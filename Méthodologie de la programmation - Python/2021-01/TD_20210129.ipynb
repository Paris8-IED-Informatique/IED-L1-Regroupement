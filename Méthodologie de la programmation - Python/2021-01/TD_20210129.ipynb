{
 "cells": [
  {
   "cell_type": "markdown",
   "metadata": {},
   "source": [
    "- Nom         :\n",
    "- Prénom      :\n",
    "- N. étudiant :"
   ]
  },
  {
   "cell_type": "markdown",
   "metadata": {
    "id": "lQoA-Gz17KsI"
   },
   "source": [
    "\n",
    "> ### _**Note**: inutile de s'arrêter sur les notions de biologie exposées pour réaliser les exercices, elles servent ici simplement d'illustration. Au besoin, reportez vous aux exemples pour mieux comprendre les questions._\n",
    "\n",
    "L'__ADN__ contient l'information génétique permettant le fonctionnement des êtres vivants.\n",
    "\n",
    "Il est constitué de deux brins formant une double hélice.  \n",
    "Chaque brin est formé par une chaine de _nucléotides_, qui contiennent l'une des bases suivantes :\n",
    "\n",
    "- __A__ pour _Adénine_\n",
    "- __T__ pour _Thymine_\n",
    "- __G__ pour _Guanine_\n",
    "- __C__ pour _Cytosine_\n",
    "\n",
    "L'ordre dans lequel se succèdent les nucléotides le long d'un brin d'ADN constitue la _séquence_ de ce brin.  \n",
    "C'est elle qui porte l'information génétique."
   ]
  },
  {
   "cell_type": "markdown",
   "metadata": {
    "id": "yZ0FFq1v7KsP"
   },
   "source": [
    "# Lecture d'une séquence\n",
    "\n",
    "Nous pouvons stocker une séquence d'ADN dans un fichier simplement à l'aide d'une chaine de caractères de cette forme:\n",
    "```\n",
    "'AATGTCCAGTCAGTTG...'\n",
    "```\n",
    "\n",
    "Ecrire une fonction `lire_adn(filename)` permettant de lire et retourner le contenu d'un tel fichier.\n",
    "\n",
    "Par exemple, `lire_adn(\"ncov-s.txt\")` retournera la séquence `\"ATGTTTGTTTTTCTT...\"`."
   ]
  },
  {
   "cell_type": "code",
   "execution_count": null,
   "metadata": {
    "id": "hmkDAw0x7KsP"
   },
   "outputs": [],
   "source": [
    "def lire_adn(filename):\n",
    "    # votre code ici\n"
   ]
  },
  {
   "cell_type": "markdown",
   "metadata": {
    "id": "a7WCdTtR7KsQ"
   },
   "source": [
    "# Transcription\n",
    "\n",
    "La _transcription_ est un mécanisme qui permet de copier l'ADN dans le noyau de la cellule pour former un __ARN__.  \n",
    "Lors de la transcription, la Thymine (__T__) est remplacée par l'Uracile (__U__).\n",
    "\n",
    "Ecrire une fonction `transcrire_adn(seq)` permettant de transcrire une séquence d'ADN en ARN.\n",
    "\n",
    "Par exemple, `transcrire_adn('AATGTCCAGTCAG')` doit renvoyer `'AAUGUCCAGUCAG'`."
   ]
  },
  {
   "cell_type": "code",
   "execution_count": null,
   "metadata": {
    "id": "ywCmkFtK7KsR"
   },
   "outputs": [],
   "source": [
    "def transcrire_adn(seq):\n",
    "    # votre code ici\n"
   ]
  },
  {
   "cell_type": "markdown",
   "metadata": {
    "id": "sAEb75pB7KsR"
   },
   "source": [
    "# Découpage de l'ARN\n",
    "\n",
    "L'ARN est découpé en _codons_, constitués de 3 bases successives, qui correspondent chacun à un acide aminé. Ils sont lus les uns à la suite des autres.\n",
    "\n",
    "Ecrire une fonction `arn_vers_codons(seq)` permettant de découper une séquence d'ADN en une liste de codons.\n",
    "\n",
    "Par exemple, `arn_vers_codons('AAUGUCCAGUCAGUU')` renverra:\n",
    "```['AAU', 'GUC', 'CAG', 'UCA', 'GUU']```"
   ]
  },
  {
   "cell_type": "code",
   "execution_count": null,
   "metadata": {
    "id": "_8VHxZgV7KsS"
   },
   "outputs": [],
   "source": [
    "def arn_vers_codons(seq):\n",
    "    # votre code ici\n"
   ]
  },
  {
   "cell_type": "markdown",
   "metadata": {
    "id": "d0fuI19W7KsS"
   },
   "source": [
    "# Traduction\n",
    "\n",
    "La _traduction_ de l'ADN consiste à lire l'ARN issu de la transcription pour synthétiser une protéine sous forme d'une chaîne d'acides aminés.\n",
    "\n",
    "Le dictionnaire ci-dessous donne la correspondance entre un codon, composé de trois bases d'ARN, et un acide aminé.  \n",
    "Par exemple, le codon `GUC` code pour l'acide aminé `Val` (valine)."
   ]
  },
  {
   "cell_type": "code",
   "execution_count": null,
   "metadata": {
    "id": "V-SfulQV7KsS"
   },
   "outputs": [],
   "source": [
    "codage = {'GUC': 'Val', 'GUG': 'Val', 'UCA': 'Ser', 'CUC': 'Leu', 'AUU': 'Ile', 'CCU': 'Pro', 'CGG': 'Arg',\n",
    "          'GGU': 'Gly', 'CAU': 'His', 'CGU': 'Arg', 'GCG': 'Ala', 'AGA': 'Arg', 'CUG': 'Leu', 'GUU': 'Val',\n",
    "          'AUA': 'Ile', 'UGU': 'Cys', 'GCC': 'Ala', 'UAU': 'Tyr', 'ACU': 'Thr', 'UGG': 'Trp', 'CAG': 'Gln',\n",
    "          'CAC': 'His', 'AGC': 'Ser', 'GGG': 'Gly', 'CUU': 'Leu', 'ACA': 'Thr', 'CUA': 'Leu', 'GAA': 'Glu',\n",
    "          'AUC': 'Ile', 'CGC': 'Arg', 'UGC': 'Cys', 'UCC': 'Ser', 'AAU': 'Asn', 'UUC': 'Phe', 'CCC': 'Pro', \n",
    "          'AGG': 'Arg', 'UGA':  None, 'UAG':  None, 'UAA':  None, 'AUG': 'Met', 'UUG': 'Leu', 'UUA': 'Leu', \n",
    "          'AGU': 'Ser', 'GGC': 'Gly', 'GAU': 'Asp', 'CCA': 'Pro', 'CGA': 'Arg', 'GUA': 'Val', 'CAA': 'Gln',\n",
    "          'UCU': 'Ser', 'UCG': 'Ser', 'ACC': 'Thr', 'GAG': 'Glu', 'GGA': 'Gly', 'GCU': 'Ala', 'GAC': 'Asp',\n",
    "          'AAC': 'Asn', 'AAG': 'Lys', 'GCA': 'Ala', 'CCG': 'Pro', 'AAA': 'Lys', 'ACG': 'Thr', 'UAC': 'Tyr',\n",
    "          'UUU': 'Phe'}"
   ]
  },
  {
   "cell_type": "markdown",
   "metadata": {
    "id": "3Tms9Yze7KsT"
   },
   "source": [
    "On remarquera que plusieurs codons différents peuvent coder pour le même acide aminé.  \n",
    "Notez également que certains codent pour la valeur `None`. \n",
    "Ces derniers indiquent la fin de la partie \"codante\" et __stoppent__ la synthèse de la protéine.\n",
    "\n",
    "Écrire une fonction `traduire_arn(seq)` qui traduit l'ARN et renvoie la liste d'acides aminés correspondante.  \n",
    "__Attention__, la chaine doit s'arrêter au codon STOP.\n",
    "\n",
    "Exemple: `traduire_arn('AAUGUCCAGUAGUCA')` retournera `['Asn', 'Val', 'Gln']`."
   ]
  },
  {
   "cell_type": "code",
   "execution_count": null,
   "metadata": {
    "id": "n79-RaK57KsT"
   },
   "outputs": [],
   "source": [
    "def traduire_arn(seq):\n",
    "    # votre code ici\n"
   ]
  },
  {
   "cell_type": "markdown",
   "metadata": {
    "id": "UYItVZRF7KsU"
   },
   "source": [
    "# Acide aminés\n",
    "\n",
    "On souhaite avoir un tableau permettant de savoir quels sont les codons qui correspondent à chaque acide aminé, sous cette forme:\n",
    "\n",
    "```\n",
    "Ala : GCA, GCC, GCG, GCU\n",
    "Arg : AGA, AGG, CGA, CGC, CGG, CGU\n",
    "Asn : AAC, AAU\n",
    "...\n",
    "```\n",
    "\n",
    "Ecrire le code permettant de générer ce tableau, et l'enregistrer dans un fichier `amines.txt`.  \n",
    "Ce fichier sera rendu avec le devoir."
   ]
  },
  {
   "cell_type": "code",
   "execution_count": null,
   "metadata": {
    "id": "8K9-QSvZ7KsU"
   },
   "outputs": [],
   "source": [
    "# votre code ici\n"
   ]
  }
 ],
 "metadata": {
  "colab": {
   "name": "TD_20190918.ipynb",
   "provenance": []
  },
  "kernelspec": {
   "display_name": "Python 3",
   "language": "python",
   "name": "python3"
  },
  "language_info": {
   "codemirror_mode": {
    "name": "ipython",
    "version": 3
   },
   "file_extension": ".py",
   "mimetype": "text/x-python",
   "name": "python",
   "nbconvert_exporter": "python",
   "pygments_lexer": "ipython3",
   "version": "3.6.9"
  }
 },
 "nbformat": 4,
 "nbformat_minor": 1
}
