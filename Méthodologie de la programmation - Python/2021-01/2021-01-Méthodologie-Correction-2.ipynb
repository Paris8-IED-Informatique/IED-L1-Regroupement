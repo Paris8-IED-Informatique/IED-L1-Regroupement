{
 "cells": [
  {
   "cell_type": "markdown",
   "source": [
    "- Nom         :\n",
    "- Prénom      :\n",
    "- N. étudiant :"
   ],
   "metadata": {}
  },
  {
   "cell_type": "markdown",
   "source": [
    "\n",
    "> ### _**Note**: inutile de s'arrêter sur les notions de biologie exposées pour réaliser les exercices, elles servent ici simplement d'illustration. Au besoin, reportez vous aux exemples pour mieux comprendre les questions._\n",
    "\n",
    "L'__ADN__ contient l'information génétique permettant le fonctionnement des êtres vivants.\n",
    "\n",
    "Il est constitué de deux brins formant une double hélice.  \n",
    "Chaque brin est formé par une chaine de _nucléotides_, qui contiennent l'une des bases suivantes :\n",
    "\n",
    "- __A__ pour _Adénine_\n",
    "- __T__ pour _Thymine_\n",
    "- __G__ pour _Guanine_\n",
    "- __C__ pour _Cytosine_\n",
    "\n",
    "L'ordre dans lequel se succèdent les nucléotides le long d'un brin d'ADN constitue la _séquence_ de ce brin.  \n",
    "C'est elle qui porte l'information génétique."
   ],
   "metadata": {
    "id": "lQoA-Gz17KsI"
   }
  },
  {
   "cell_type": "markdown",
   "source": [
    "# Lecture d'une séquence\n",
    "\n",
    "Nous pouvons stocker une séquence d'ADN dans un fichier simplement à l'aide d'une chaine de caractères de cette forme:\n",
    "```\n",
    "'AATGTCCAGTCAGTTG...'\n",
    "```\n",
    "\n",
    "Ecrire une fonction `lire_adn(filename)` permettant de lire et retourner le contenu d'un tel fichier.\n",
    "\n",
    "Par exemple, `lire_adn(\"ncov-s.txt\")` retournera la séquence `\"ATGTTTGTTTTTCTT...\"`."
   ],
   "metadata": {
    "id": "yZ0FFq1v7KsP"
   }
  },
  {
   "cell_type": "code",
   "execution_count": 10,
   "source": [
    "def lire_adn(filename):\n",
    "    # Lecture de tous le fichier et retourne le contenu\n",
    "    with open(filename, 'rt') as f:\n",
    "        return f.read()\n",
    "\n",
    "# Tests\n",
    "adn = lire_adn('ncov-s.txt')"
   ],
   "outputs": [],
   "metadata": {
    "id": "hmkDAw0x7KsP"
   }
  },
  {
   "cell_type": "markdown",
   "source": [
    "# Transcription\n",
    "\n",
    "La _transcription_ est un mécanisme qui permet de copier l'ADN dans le noyau de la cellule pour former un __ARN__.  \n",
    "Lors de la transcription, la Thymine (__T__) est remplacée par l'Uracile (__U__).\n",
    "\n",
    "Ecrire une fonction `transcrire_adn(seq)` permettant de transcrire une séquence d'ADN en ARN.\n",
    "\n",
    "Par exemple, `transcrire_adn('AATGTCCAGTCAG')` doit renvoyer `'AAUGUCCAGUCAG'`."
   ],
   "metadata": {
    "id": "a7WCdTtR7KsQ"
   }
  },
  {
   "cell_type": "code",
   "execution_count": 11,
   "source": [
    "def transcrire_adn(seq):\n",
    "    # On remplace les T par des U\n",
    "    return seq.replace('T', 'U')\n",
    "\n",
    "# Tests\n",
    "arn = transcrire_adn(adn)"
   ],
   "outputs": [],
   "metadata": {
    "id": "ywCmkFtK7KsR"
   }
  },
  {
   "cell_type": "markdown",
   "source": [
    "# Découpage de l'ARN\n",
    "\n",
    "L'ARN est découpé en _codons_, constitués de 3 bases successives, qui correspondent chacun à un acide aminé. Ils sont lus les uns à la suite des autres.\n",
    "\n",
    "Ecrire une fonction `arn_vers_codons(seq)` permettant de découper une séquence d'ADN en une liste de codons.\n",
    "\n",
    "Par exemple, `arn_vers_codons('AAUGUCCAGUCAGUU')` renverra:\n",
    "```['AAU', 'GUC', 'CAG', 'UCA', 'GUU']```"
   ],
   "metadata": {
    "id": "sAEb75pB7KsR"
   }
  },
  {
   "cell_type": "code",
   "execution_count": null,
   "source": [
    "def arn_vers_codons(seq):\n",
    "    # On parcourt de 3 en 3 et on construit une liste avec ces groupes de 3 caractères\n",
    "    return [seq[i*3:i*3+3] for i in range(len(seq) // 3)]\n",
    "\n",
    "# Tests\n",
    "codons = arn_vers_codons(arn)\n",
    "print(codons)"
   ],
   "outputs": [],
   "metadata": {
    "id": "_8VHxZgV7KsS"
   }
  },
  {
   "cell_type": "markdown",
   "source": [
    "# Traduction\n",
    "\n",
    "La _traduction_ de l'ADN consiste à lire l'ARN issu de la transcription pour synthétiser une protéine sous forme d'une chaîne d'acides aminés.\n",
    "\n",
    "Le dictionnaire ci-dessous donne la correspondance entre un codon, composé de trois bases d'ARN, et un acide aminé.  \n",
    "Par exemple, le codon `GUC` code pour l'acide aminé `Val` (valine)."
   ],
   "metadata": {
    "id": "d0fuI19W7KsS"
   }
  },
  {
   "cell_type": "code",
   "execution_count": 19,
   "source": [
    "codage = {'GUC': 'Val', 'GUG': 'Val', 'UCA': 'Ser', 'CUC': 'Leu', 'AUU': 'Ile', 'CCU': 'Pro', 'CGG': 'Arg',\n",
    "          'GGU': 'Gly', 'CAU': 'His', 'CGU': 'Arg', 'GCG': 'Ala', 'AGA': 'Arg', 'CUG': 'Leu', 'GUU': 'Val',\n",
    "          'AUA': 'Ile', 'UGU': 'Cys', 'GCC': 'Ala', 'UAU': 'Tyr', 'ACU': 'Thr', 'UGG': 'Trp', 'CAG': 'Gln',\n",
    "          'CAC': 'His', 'AGC': 'Ser', 'GGG': 'Gly', 'CUU': 'Leu', 'ACA': 'Thr', 'CUA': 'Leu', 'GAA': 'Glu',\n",
    "          'AUC': 'Ile', 'CGC': 'Arg', 'UGC': 'Cys', 'UCC': 'Ser', 'AAU': 'Asn', 'UUC': 'Phe', 'CCC': 'Pro', \n",
    "          'AGG': 'Arg', 'UGA':  None, 'UAG':  None, 'UAA':  None, 'AUG': 'Met', 'UUG': 'Leu', 'UUA': 'Leu', \n",
    "          'AGU': 'Ser', 'GGC': 'Gly', 'GAU': 'Asp', 'CCA': 'Pro', 'CGA': 'Arg', 'GUA': 'Val', 'CAA': 'Gln',\n",
    "          'UCU': 'Ser', 'UCG': 'Ser', 'ACC': 'Thr', 'GAG': 'Glu', 'GGA': 'Gly', 'GCU': 'Ala', 'GAC': 'Asp',\n",
    "          'AAC': 'Asn', 'AAG': 'Lys', 'GCA': 'Ala', 'CCG': 'Pro', 'AAA': 'Lys', 'ACG': 'Thr', 'UAC': 'Tyr',\n",
    "          'UUU': 'Phe'}"
   ],
   "outputs": [],
   "metadata": {
    "id": "V-SfulQV7KsS"
   }
  },
  {
   "cell_type": "markdown",
   "source": [
    "On remarquera que plusieurs codons différents peuvent coder pour le même acide aminé.  \n",
    "Notez également que certains codent pour la valeur `None`. \n",
    "Ces derniers indiquent la fin de la partie \"codante\" et __stoppent__ la synthèse de la protéine.\n",
    "\n",
    "Écrire une fonction `traduire_arn(seq)` qui traduit l'ARN et renvoie la liste d'acides aminés correspondante.  \n",
    "__Attention__, la chaine doit s'arrêter au codon STOP.\n",
    "\n",
    "Exemple: `traduire_arn('AAUGUCCAGUAGUCA')` retournera `['Asn', 'Val', 'Gln']`."
   ],
   "metadata": {
    "id": "3Tms9Yze7KsT"
   }
  },
  {
   "cell_type": "code",
   "execution_count": 25,
   "source": [
    "def traduire_arn(seq):\n",
    "    # On récupère les codons\n",
    "    codons = arn_vers_codons(seq)\n",
    "    # On va construire la protéine\n",
    "    proteine = []\n",
    "    # On parcourt les codons\n",
    "    for c in codons:\n",
    "        # On s'assure que l'on a bien une valeur correspondante dans codage\n",
    "        if c not in codage:\n",
    "            raise Exception(f'La séquence {c} ne correspond pas à une acide aminée')\n",
    "        # On récupère la valeur de codqage\n",
    "        acide = codage[c]\n",
    "        # Si elle est nulle, c'est la fin de la protéine\n",
    "        if acide is None:\n",
    "            break\n",
    "        # On ajout l'acide aminée à la protéine\n",
    "        proteine.append(acide)\n",
    "    # On retourne la protéine\n",
    "    return proteine\n",
    "\n",
    "# Tests\n",
    "print(arn_vers_codons('AAUGUCCAGUAGUCA'))\n",
    "print(traduire_arn('AAUGUCCAGUAGUCA'))"
   ],
   "outputs": [
    {
     "output_type": "stream",
     "name": "stdout",
     "text": [
      "['AAU', 'GUC', 'CAG', 'UAG', 'UCA']\n",
      "['Asn', 'Val', 'Gln']\n"
     ]
    }
   ],
   "metadata": {
    "id": "n79-RaK57KsT"
   }
  },
  {
   "cell_type": "markdown",
   "source": [
    "# Acide aminés\n",
    "\n",
    "On souhaite avoir un tableau permettant de savoir quels sont les codons qui correspondent à chaque acide aminé, sous cette forme:\n",
    "\n",
    "```\n",
    "Ala : GCA, GCC, GCG, GCU\n",
    "Arg : AGA, AGG, CGA, CGC, CGG, CGU\n",
    "Asn : AAC, AAU\n",
    "...\n",
    "```\n",
    "\n",
    "Ecrire le code permettant de générer ce tableau, et l'enregistrer dans un fichier `amines.txt`.  \n",
    "Ce fichier sera rendu avec le devoir."
   ],
   "metadata": {
    "id": "UYItVZRF7KsU"
   }
  },
  {
   "cell_type": "code",
   "execution_count": 68,
   "source": [
    "# On construit la liste des acides uniques et triées par ordre alphabétique\n",
    "acides = []\n",
    "[acides.append(a) for a in codage.values() if a is not None and a not in acides]\n",
    "acides.sort()\n",
    "\n",
    "# On constuit le tableau d'amines sous forme d'un dictionnaire:\n",
    "# chaque acide est associé à sa liste triée d'amines.\n",
    "amines = {a : sorted([c for c in codage.keys() if codage[c] == a]) for a in acides}\n",
    "print(amines)\n",
    "\n",
    "# On ouvre le fichier en écriture\n",
    "with open('amines.txt', 'wt') as output:\n",
    "    # On parcours la liste triée d'acides\n",
    "    for acide in acides:\n",
    "        # On affiche (dans le fichier) l'acide et sa liste triée d'amines\n",
    "        print(f'{acide} : {\", \".join(amines[acide])}', file=output)\n"
   ],
   "outputs": [
    {
     "output_type": "stream",
     "name": "stdout",
     "text": [
      "{'Ala': ['GCA', 'GCC', 'GCG', 'GCU'], 'Arg': ['AGA', 'AGG', 'CGA', 'CGC', 'CGG', 'CGU'], 'Asn': ['AAC', 'AAU'], 'Asp': ['GAC', 'GAU'], 'Cys': ['UGC', 'UGU'], 'Gln': ['CAA', 'CAG'], 'Glu': ['GAA', 'GAG'], 'Gly': ['GGA', 'GGC', 'GGG', 'GGU'], 'His': ['CAC', 'CAU'], 'Ile': ['AUA', 'AUC', 'AUU'], 'Leu': ['CUA', 'CUC', 'CUG', 'CUU', 'UUA', 'UUG'], 'Lys': ['AAA', 'AAG'], 'Met': ['AUG'], 'Phe': ['UUC', 'UUU'], 'Pro': ['CCA', 'CCC', 'CCG', 'CCU'], 'Ser': ['AGC', 'AGU', 'UCA', 'UCC', 'UCG', 'UCU'], 'Thr': ['ACA', 'ACC', 'ACG', 'ACU'], 'Trp': ['UGG'], 'Tyr': ['UAC', 'UAU'], 'Val': ['GUA', 'GUC', 'GUG', 'GUU']}\n"
     ]
    }
   ],
   "metadata": {
    "id": "8K9-QSvZ7KsU"
   }
  }
 ],
 "metadata": {
  "colab": {
   "name": "TD_20190918.ipynb",
   "provenance": []
  },
  "kernelspec": {
   "name": "python3",
   "display_name": "Python 3.8.6 64-bit ('exam': pyenv)"
  },
  "language_info": {
   "codemirror_mode": {
    "name": "ipython",
    "version": 3
   },
   "file_extension": ".py",
   "mimetype": "text/x-python",
   "name": "python",
   "nbconvert_exporter": "python",
   "pygments_lexer": "ipython3",
   "version": "3.8.6"
  },
  "interpreter": {
   "hash": "b8ffd52e960d990fd8d655d8b979d8f4cbbebc4a099cb60c6195d688f8c61676"
  }
 },
 "nbformat": 4,
 "nbformat_minor": 1
}